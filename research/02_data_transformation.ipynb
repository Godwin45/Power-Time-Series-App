{
 "cells": [
  {
   "cell_type": "code",
   "execution_count": 1,
   "metadata": {},
   "outputs": [],
   "source": [
    "import os"
   ]
  },
  {
   "cell_type": "code",
   "execution_count": 2,
   "metadata": {},
   "outputs": [
    {
     "data": {
      "text/plain": [
       "'c:\\\\Users\\\\User\\\\Desktop\\\\PROJECTS\\\\stock\\\\Power-Time-Series-App\\\\research'"
      ]
     },
     "execution_count": 2,
     "metadata": {},
     "output_type": "execute_result"
    }
   ],
   "source": [
    "%pwd"
   ]
  },
  {
   "cell_type": "code",
   "execution_count": 3,
   "metadata": {},
   "outputs": [],
   "source": [
    "os.chdir(\"../\")"
   ]
  },
  {
   "cell_type": "code",
   "execution_count": 4,
   "metadata": {},
   "outputs": [
    {
     "data": {
      "text/plain": [
       "'c:\\\\Users\\\\User\\\\Desktop\\\\PROJECTS\\\\stock\\\\Power-Time-Series-App'"
      ]
     },
     "execution_count": 4,
     "metadata": {},
     "output_type": "execute_result"
    }
   ],
   "source": [
    "%pwd"
   ]
  },
  {
   "cell_type": "code",
   "execution_count": 5,
   "metadata": {},
   "outputs": [],
   "source": [
    "from dataclasses import dataclass\n",
    "from pathlib import Path\n",
    "\n",
    "\n",
    "@dataclass(frozen=True)\n",
    "class DataTransformationConfig:\n",
    "    root_dir: Path\n",
    "    data: Path"
   ]
  },
  {
   "cell_type": "code",
   "execution_count": 6,
   "metadata": {},
   "outputs": [],
   "source": [
    "from powerTimeSeries.constants import *\n",
    "from powerTimeSeries.utils.common import read_yaml, create_directories"
   ]
  },
  {
   "cell_type": "code",
   "execution_count": 7,
   "metadata": {},
   "outputs": [],
   "source": [
    "class ConfigurationManager:\n",
    "    def __init__(\n",
    "        self, \n",
    "        config_filepath = CONFIG_FILE_PATH,\n",
    "        params_filepath = PARAMS_FILE_PATH):\n",
    "        self.config = read_yaml(config_filepath)\n",
    "        self.params = read_yaml(params_filepath)\n",
    "        create_directories([self.config.artifacts_root])\n",
    "\n",
    "\n",
    "    def get_data_transformation_config(self) -> DataTransformationConfig:\n",
    "        config = self.config.data_transformation\n",
    "        \n",
    "        create_directories([config.root_dir])\n",
    "\n",
    "        data_transformation_config = DataTransformationConfig(\n",
    "            root_dir=Path(config.root_dir),\n",
    "            data=Path(config.data),\n",
    "          \n",
    "        )\n",
    "\n",
    "        return  data_transformation_config\n"
   ]
  },
  {
   "cell_type": "code",
   "execution_count": 8,
   "metadata": {},
   "outputs": [],
   "source": [
    "import pandas as pd"
   ]
  },
  {
   "cell_type": "code",
   "execution_count": 19,
   "metadata": {},
   "outputs": [],
   "source": [
    "class DataTransformation:\n",
    "    def __init__(self, config:DataTransformationConfig):\n",
    "        self.config = config\n",
    "       \n",
    "       \n",
    "    def transformation_data(self):\n",
    "\n",
    "        df = pd.read_csv(self.config.data)\n",
    "        df = df.set_index('Datetime')\n",
    "        df.index = pd.to_datetime(df.index)\n",
    "        \n",
    "\n",
    "        df = self.create_features(df)\n",
    "        df = self.add_lags(df)\n",
    "\n",
    "        self.save(df)\n",
    "\n",
    "\n",
    "    def create_features(self, df):\n",
    "        \"\"\"\n",
    "        Create time series features based on time series index.\n",
    "        \"\"\"\n",
    "        df = df.copy()\n",
    "        df['hour'] = df.index.hour\n",
    "        df['dayofweek'] = df.index.dayofweek\n",
    "        df['quarter'] = df.index.quarter\n",
    "        df['month'] = df.index.month\n",
    "        df['year'] = df.index.year\n",
    "        df['dayofyear'] = df.index.dayofyear\n",
    "        df['dayofmonth'] = df.index.day\n",
    "        df['weekofyear'] = df.index.isocalendar().week\n",
    "\n",
    "        return df\n",
    "    \n",
    "    def add_lags(self, df):\n",
    "        target_map = df['PJME_MW'].to_dict()\n",
    "        df['lag1'] = (df.index - pd.Timedelta('364 days')).map(target_map)\n",
    "        df['lag2'] = (df.index - pd.Timedelta('728 days')).map(target_map)\n",
    "        df['lag3'] = (df.index - pd.Timedelta('1092 days')).map(target_map)\n",
    "\n",
    "        return df\n",
    "    def save(self, df):\n",
    "        # Create the 'transformed_data' directory\n",
    "        transformed_data_dir = os.path.join(\"artifacts\", \"transformed_data\")\n",
    "        os.makedirs(transformed_data_dir, exist_ok=True)\n",
    "\n",
    "        # Save the DataFrame to the 'data.csv' file inside the 'transformed_data' directory\n",
    "        data_file_path = os.path.join(transformed_data_dir, \"data.csv\")\n",
    "        df.to_csv(data_file_path, index=False)\n",
    "\n",
    "        print(\"Data transformation complete\")\n"
   ]
  },
  {
   "cell_type": "code",
   "execution_count": 20,
   "metadata": {},
   "outputs": [
    {
     "name": "stdout",
     "output_type": "stream",
     "text": [
      "[2023-07-23 14:10:46,031: INFO: common: yaml file: config\\config.yaml loaded successfully]\n",
      "[2023-07-23 14:10:46,036: INFO: common: yaml file: params.yaml loaded successfully]\n",
      "[2023-07-23 14:10:46,040: INFO: common: created directory at: artifacts]\n",
      "[2023-07-23 14:10:46,044: INFO: common: created directory at: artifacts/data_ingestion]\n",
      "Data transformation complete\n"
     ]
    }
   ],
   "source": [
    "try:\n",
    "    config = ConfigurationManager()\n",
    "    data_transformation_config = config.get_data_transformation_config()\n",
    "    data_transformation = DataTransformation(config=data_transformation_config)\n",
    "    data_transformation.transformation_data()\n",
    "   \n",
    "except Exception as e:\n",
    "    raise e"
   ]
  },
  {
   "cell_type": "code",
   "execution_count": null,
   "metadata": {},
   "outputs": [],
   "source": []
  }
 ],
 "metadata": {
  "kernelspec": {
   "display_name": "student",
   "language": "python",
   "name": "python3"
  },
  "language_info": {
   "codemirror_mode": {
    "name": "ipython",
    "version": 3
   },
   "file_extension": ".py",
   "mimetype": "text/x-python",
   "name": "python",
   "nbconvert_exporter": "python",
   "pygments_lexer": "ipython3",
   "version": "3.8.17"
  },
  "orig_nbformat": 4
 },
 "nbformat": 4,
 "nbformat_minor": 2
}
